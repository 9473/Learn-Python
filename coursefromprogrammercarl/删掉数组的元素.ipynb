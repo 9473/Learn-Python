{
 "cells": [
  {
   "cell_type": "code",
   "execution_count": null,
   "id": "1a49cfe0",
   "metadata": {},
   "outputs": [],
   "source": [
    "为什么要考虑这个\n",
    "因为对于数组来说，删掉一个元素的动作不是我们想象的真的删去了，而是把那个空间空出来了\n",
    "当我们返回这个数组大小的时候，可能还是错的\n",
    "要知道数组的元素在内存地址中是连续的，不能单独删除数组中的某个元素，只能覆盖。"
   ]
  },
  {
   "cell_type": "code",
   "execution_count": null,
   "id": "83f202ba",
   "metadata": {},
   "outputs": [],
   "source": [
    "#（版本一）快慢指针法\n",
    "class Solution:\n",
    "    def removeElement(self, nums: List[int], val: int) -> int:\n",
    "        # 快慢指针\n",
    "        fast = 0  # 快指针\n",
    "        slow = 0  # 慢指针\n",
    "        size = len(nums)\n",
    "        while fast < size:  # 不加等于是因为，a = size 时，nums[a] 会越界\n",
    "            # slow 用来收集不等于 val 的值，如果 fast 对应值不等于 val，则把它与 slow 替换\n",
    "            # 不相等的才是要放到新数组的元素！\n",
    "            if nums[fast] != val:\n",
    "                nums[slow] = nums[fast]\n",
    "                slow += 1\n",
    "            fast += 1\n",
    "        return slow\n",
    "        # 返回数组大小其实就是返回慢指针的元素（位置）"
   ]
  },
  {
   "cell_type": "code",
   "execution_count": null,
   "id": "893afe16",
   "metadata": {},
   "outputs": [],
   "source": [
    "#（版本二）暴力法\n",
    "class Solution:\n",
    "    def removeElement(self, nums: List[int], val: int) -> int:\n",
    "        i, l = 0, len(nums)\n",
    "        while i < l:\n",
    "            if nums[i] == val: # 找到等于目标值的节点\n",
    "                for j in range(i+1, l): # 移除该元素，并将后面元素向前平移\n",
    "                    nums[j - 1] = nums[j]\n",
    "                l -= 1 #数组长度-1\n",
    "                i -= 1 #删掉之后，原来指针处于比如3，现在指针处于2\n",
    "            i += 1 #向后移动一格继续开始遍历\n",
    "        return l"
   ]
  }
 ],
 "metadata": {
  "kernelspec": {
   "display_name": "Python 3 (ipykernel)",
   "language": "python",
   "name": "python3"
  },
  "language_info": {
   "codemirror_mode": {
    "name": "ipython",
    "version": 3
   },
   "file_extension": ".py",
   "mimetype": "text/x-python",
   "name": "python",
   "nbconvert_exporter": "python",
   "pygments_lexer": "ipython3",
   "version": "3.11.5"
  }
 },
 "nbformat": 4,
 "nbformat_minor": 5
}
