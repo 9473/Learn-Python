{
 "cells": [
  {
   "cell_type": "code",
   "execution_count": null,
   "id": "28ffc7ba",
   "metadata": {},
   "outputs": [],
   "source": [
    "#（版本一）双指针法 算法复杂度：O(n)\n",
    "class Solution:\n",
    "    def sortedSquares(self, nums: List[int]) -> List[int]:\n",
    "        l, r, i = 0, len(nums)-1, len(nums)-1\n",
    "        # notice:python可以从0开始，所以最后的元素是n-1\n",
    "        \n",
    "        res = [float('inf')] * len(nums) # 需要提前定义列表，存放结果\n",
    "        # this is result arrays for result\n",
    "        while l <= r: #从此开始，从两边开始找并且满足左边指针小于=右边指针的情况下执行\n",
    "            # 否则（也就是左边指针超过右边指针了）退出\n",
    "            # 必须包含这个等号，否则相等的那个元素会被我们漏掉\n",
    "            if nums[l] ** 2 < nums[r] ** 2: # 左右边界进行对比，找出最大值\n",
    "                # 显然，这里表明右边边界的元素的平方会更大一些，因此\n",
    "                # 对于result数组中，指针从右到左开始执行(n-1 -> 0),所以此时记录的最大值取决于r\n",
    "                res[i] = nums[r] ** 2\n",
    "                r -= 1 # 右指针往左移动\n",
    "            else:\n",
    "                res[i] = nums[l] ** 2\n",
    "                l += 1 # 左指针往右移动\n",
    "            i -= 1 # 存放结果的指针需要往前平移一位\n",
    "        return res"
   ]
  },
  {
   "cell_type": "code",
   "execution_count": 4,
   "id": "f0fcdffc",
   "metadata": {},
   "outputs": [
    {
     "name": "stdout",
     "output_type": "stream",
     "text": [
      "Original List: [-4, -2, 0, 1, 3, 5]\n",
      "Sorted Squares: [0, 1, 4, 9, 16, 25]\n"
     ]
    }
   ],
   "source": [
    "# 使用\n",
    "from typing import List\n",
    "\n",
    "class Solution:\n",
    "    def sortedSquares(self, nums: List[int]) -> List[int]:\n",
    "        l, r, i = 0, len(nums)-1, len(nums)-1\n",
    "        res = [float('inf')] * len(nums)\n",
    "        \n",
    "        while l <= r:\n",
    "            if nums[l] ** 2 < nums[r] ** 2:\n",
    "                res[i] = nums[r] ** 2\n",
    "                r -= 1\n",
    "            else:\n",
    "                res[i] = nums[l] ** 2\n",
    "                l += 1\n",
    "            i -= 1\n",
    "        \n",
    "        return res\n",
    "\n",
    "# 创建 Solution 类的实例\n",
    "solution_instance = Solution()\n",
    "\n",
    "# 调用 sortedSquares 方法并传递一个列表作为参数\n",
    "input_nums = [-4, -2, 0, 1, 3, 5]\n",
    "result = solution_instance.sortedSquares(input_nums)\n",
    "\n",
    "# 打印结果\n",
    "print(\"Original List:\", input_nums)\n",
    "print(\"Sorted Squares:\", result)\n"
   ]
  },
  {
   "cell_type": "code",
   "execution_count": 6,
   "id": "eeb81a05",
   "metadata": {},
   "outputs": [
    {
     "ename": "NameError",
     "evalue": "name 'sortedSquares' is not defined",
     "output_type": "error",
     "traceback": [
      "\u001b[0;31m---------------------------------------------------------------------------\u001b[0m",
      "\u001b[0;31mNameError\u001b[0m                                 Traceback (most recent call last)",
      "Cell \u001b[0;32mIn[6], line 23\u001b[0m\n\u001b[1;32m     21\u001b[0m \u001b[38;5;66;03m# 调用 sortedSquares 方法并传递一个列表作为参数\u001b[39;00m\n\u001b[1;32m     22\u001b[0m input_nums \u001b[38;5;241m=\u001b[39m [\u001b[38;5;241m-\u001b[39m\u001b[38;5;241m4\u001b[39m, \u001b[38;5;241m-\u001b[39m\u001b[38;5;241m2\u001b[39m, \u001b[38;5;241m0\u001b[39m, \u001b[38;5;241m1\u001b[39m, \u001b[38;5;241m3\u001b[39m, \u001b[38;5;241m5\u001b[39m]\n\u001b[0;32m---> 23\u001b[0m result \u001b[38;5;241m=\u001b[39m sortedSquares(input_nums)\n\u001b[1;32m     25\u001b[0m \u001b[38;5;66;03m# 打印结果\u001b[39;00m\n\u001b[1;32m     26\u001b[0m \u001b[38;5;28mprint\u001b[39m(\u001b[38;5;124m\"\u001b[39m\u001b[38;5;124mOriginal List:\u001b[39m\u001b[38;5;124m\"\u001b[39m, input_nums)\n",
      "\u001b[0;31mNameError\u001b[0m: name 'sortedSquares' is not defined"
     ]
    }
   ],
   "source": [
    "# 使用\n",
    "from typing import List\n",
    "\n",
    "class Solution:\n",
    "    def sortedSquares(self, nums: List[int]) -> List[int]:\n",
    "        l, r, i = 0, len(nums)-1, len(nums)-1\n",
    "        res = [float('inf')] * len(nums)\n",
    "        \n",
    "        while l <= r:\n",
    "            if nums[l] ** 2 < nums[r] ** 2:\n",
    "                res[i] = nums[r] ** 2\n",
    "                r -= 1\n",
    "            else:\n",
    "                res[i] = nums[l] ** 2\n",
    "                l += 1\n",
    "            i -= 1\n",
    "        \n",
    "        return res\n",
    "\n",
    "\n",
    "# 调用 sortedSquares 方法并传递一个列表作为参数\n",
    "input_nums = [-4, -2, 0, 1, 3, 5]\n",
    "result = sortedSquares(input_nums)\n",
    "\n",
    "# 打印结果\n",
    "print(\"Original List:\", input_nums)\n",
    "print(\"Sorted Squares:\", result)"
   ]
  },
  {
   "cell_type": "code",
   "execution_count": 8,
   "id": "cded9113",
   "metadata": {},
   "outputs": [],
   "source": [
    "# 我们可以看到，这个运行的结果是报错，为什么呢？\n",
    "# 因为在这个特定的情况下，sortedSquares 方法定义在 Solution 类中，\n",
    "# 而类中的方法需要通过类的实例来调用。\n",
    "# 如果没有创建 Solution 类的实例，直接调用 sortedSquares() 是不合法的，\n",
    "# 因为这个方法是类的一部分，而不是一个全局函数。"
   ]
  },
  {
   "cell_type": "code",
   "execution_count": 3,
   "id": "d75c6fff",
   "metadata": {},
   "outputs": [],
   "source": [
    "#（版本二）暴力排序法 算法复杂度：O(n+nlogn)\n",
    "class Solution:\n",
    "    def sortedSquares(self, nums: List[int]) -> List[int]:\n",
    "        for i in range(len(nums)):\n",
    "            nums[i] *= nums[i]\n",
    "        nums.sort()\n",
    "        return nums"
   ]
  },
  {
   "cell_type": "code",
   "execution_count": null,
   "id": "00d20d3b",
   "metadata": {},
   "outputs": [],
   "source": [
    "#（版本三）暴力排序法+列表推导法\n",
    "class Solution:\n",
    "    def sortedSquares(self, nums: List[int]) -> List[int]:\n",
    "        return sorted(x*x for x in nums)"
   ]
  },
  {
   "cell_type": "code",
   "execution_count": 9,
   "id": "14d73cc5",
   "metadata": {},
   "outputs": [
    {
     "name": "stdout",
     "output_type": "stream",
     "text": [
      "Original List: [-4, -2, 0, 1, 3, 5]\n",
      "Sorted Squares: [0, 1, 4, 9, 16, 25]\n"
     ]
    }
   ],
   "source": [
    "from typing import List\n",
    "\n",
    "class Solution:\n",
    "    def sortedSquares(self, nums: List[int]) -> List[int]:\n",
    "        return sorted(x*x for x in nums)\n",
    "\n",
    "# 创建 Solution 类的实例\n",
    "solution_instance = Solution()\n",
    "\n",
    "# 调用 sortedSquares 方法并传递一个列表作为参数\n",
    "input_nums = [-4, -2, 0, 1, 3, 5]\n",
    "result = solution_instance.sortedSquares(input_nums)\n",
    "\n",
    "# 打印结果\n",
    "print(\"Original List:\", input_nums)\n",
    "print(\"Sorted Squares:\", result)\n"
   ]
  },
  {
   "cell_type": "code",
   "execution_count": null,
   "id": "66a5c55a",
   "metadata": {},
   "outputs": [],
   "source": []
  }
 ],
 "metadata": {
  "kernelspec": {
   "display_name": "Python 3 (ipykernel)",
   "language": "python",
   "name": "python3"
  },
  "language_info": {
   "codemirror_mode": {
    "name": "ipython",
    "version": 3
   },
   "file_extension": ".py",
   "mimetype": "text/x-python",
   "name": "python",
   "nbconvert_exporter": "python",
   "pygments_lexer": "ipython3",
   "version": "3.11.5"
  }
 },
 "nbformat": 4,
 "nbformat_minor": 5
}
